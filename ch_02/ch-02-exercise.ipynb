{
 "cells": [
  {
   "cell_type": "code",
   "execution_count": 159,
   "metadata": {},
   "outputs": [],
   "source": [
    "import pandas as pd\n",
    "import matplotlib.pyplot as plt"
   ]
  },
  {
   "cell_type": "code",
   "execution_count": 160,
   "metadata": {},
   "outputs": [],
   "source": [
    "df = pd.read_csv('data/parsed.csv')"
   ]
  },
  {
   "cell_type": "code",
   "execution_count": 161,
   "metadata": {},
   "outputs": [
    {
     "data": {
      "text/plain": [
       "array(['California', 'Dominican Republic', 'Alaska', 'Indonesia',\n",
       "       'Canada', 'Puerto Rico', 'Montana', 'Nevada', 'Christmas Island',\n",
       "       'Hawaii', 'Northern Mariana Islands', 'Japan', 'Ecuador',\n",
       "       'Vanuatu', 'Mexico', 'Russia', 'British Virgin Islands',\n",
       "       'Washington', 'Papua New Guinea', 'Fiji', 'U.S. Virgin Islands',\n",
       "       'Chile', 'Peru', 'Yemen', 'Guatemala', 'Kansas', 'Australia',\n",
       "       'Wyoming', 'Kuril Islands', 'Oklahoma', 'Tennessee',\n",
       "       'Pacific-Antarctic Ridge', 'Utah', 'Colombia', 'Argentina',\n",
       "       'Oregon', 'Greece', 'Missouri', 'Tajikistan',\n",
       "       'Northern Mid-Atlantic Ridge', 'Sumatra', 'Solomon Islands',\n",
       "       'Burma', 'Taiwan', 'Nicaragua',\n",
       "       'South Georgia and South Sandwich Islands', 'Idaho', 'Kyrgyzstan',\n",
       "       'Arizona', 'Tonga', 'Northern East Pacific Rise', 'South Africa',\n",
       "       'Southern Mid-Atlantic Ridge', 'Costa Rica', 'China',\n",
       "       'Philippines', 'Haiti', 'Jamaica', 'Kentucky', 'New Zealand',\n",
       "       'Iran', 'Afghanistan', 'Southwest Indian Ridge', 'Saint Helena',\n",
       "       'Texas', 'New Caledonia', 'El Salvador',\n",
       "       'Central Mid-Atlantic Ridge', 'Western Xizang', 'Italy',\n",
       "       'Mid-Indian Ridge', 'Ascension Island', 'North Carolina',\n",
       "       'South Sandwich Islands', 'Saint Eustatius and Saba', 'Pakistan',\n",
       "       'Bolivia', 'Turkey', 'Indian Ocean Triple Junction', 'Mayotte',\n",
       "       'Queen Charlotte Islands', 'India', 'Arkansas', 'Guam',\n",
       "       'Uzbekistan', 'Prince Edward Islands', 'Martinique', 'Honduras',\n",
       "       'Southern East Pacific Rise', 'East Timor', 'Barbuda', 'Mauritius',\n",
       "       'Carlsberg Ridge', 'Greenland', 'Balleny Islands',\n",
       "       'Western Indian-Antarctic Ridge', 'South Carolina', 'Vermont',\n",
       "       'Romania', 'New Hampshire', 'Central East Pacific Rise',\n",
       "       'Southeast Indian Ridge', 'Kermadec Islands', 'Colorado',\n",
       "       'Illinois', 'Socotra', 'Azerbaijan', 'Iraq', 'Somalia',\n",
       "       'New Mexico'], dtype=object)"
      ]
     },
     "execution_count": 161,
     "metadata": {},
     "output_type": "execute_result"
    }
   ],
   "source": [
    "df.parsed_place.unique()"
   ]
  },
  {
   "cell_type": "code",
   "execution_count": 162,
   "metadata": {},
   "outputs": [
    {
     "data": {
      "text/plain": [
       "Index(['alert', 'cdi', 'code', 'detail', 'dmin', 'felt', 'gap', 'ids', 'mag',\n",
       "       'magType', 'mmi', 'net', 'nst', 'place', 'rms', 'sig', 'sources',\n",
       "       'status', 'time', 'title', 'tsunami', 'type', 'types', 'tz', 'updated',\n",
       "       'url', 'parsed_place'],\n",
       "      dtype='object')"
      ]
     },
     "execution_count": 162,
     "metadata": {},
     "output_type": "execute_result"
    }
   ],
   "source": [
    "df.columns"
   ]
  },
  {
   "cell_type": "code",
   "execution_count": 163,
   "metadata": {},
   "outputs": [
    {
     "data": {
      "text/html": [
       "<div>\n",
       "<style scoped>\n",
       "    .dataframe tbody tr th:only-of-type {\n",
       "        vertical-align: middle;\n",
       "    }\n",
       "\n",
       "    .dataframe tbody tr th {\n",
       "        vertical-align: top;\n",
       "    }\n",
       "\n",
       "    .dataframe thead th {\n",
       "        text-align: right;\n",
       "    }\n",
       "</style>\n",
       "<table border=\"1\" class=\"dataframe\">\n",
       "  <thead>\n",
       "    <tr style=\"text-align: right;\">\n",
       "      <th></th>\n",
       "      <th>mag</th>\n",
       "      <th>magType</th>\n",
       "      <th>parsed_place</th>\n",
       "      <th>tsunami</th>\n",
       "      <th>type</th>\n",
       "    </tr>\n",
       "  </thead>\n",
       "  <tbody>\n",
       "    <tr>\n",
       "      <th>0</th>\n",
       "      <td>1.35</td>\n",
       "      <td>ml</td>\n",
       "      <td>California</td>\n",
       "      <td>0</td>\n",
       "      <td>earthquake</td>\n",
       "    </tr>\n",
       "    <tr>\n",
       "      <th>1</th>\n",
       "      <td>1.29</td>\n",
       "      <td>ml</td>\n",
       "      <td>California</td>\n",
       "      <td>0</td>\n",
       "      <td>earthquake</td>\n",
       "    </tr>\n",
       "    <tr>\n",
       "      <th>2</th>\n",
       "      <td>3.42</td>\n",
       "      <td>ml</td>\n",
       "      <td>California</td>\n",
       "      <td>0</td>\n",
       "      <td>earthquake</td>\n",
       "    </tr>\n",
       "    <tr>\n",
       "      <th>3</th>\n",
       "      <td>0.44</td>\n",
       "      <td>ml</td>\n",
       "      <td>California</td>\n",
       "      <td>0</td>\n",
       "      <td>earthquake</td>\n",
       "    </tr>\n",
       "    <tr>\n",
       "      <th>4</th>\n",
       "      <td>2.16</td>\n",
       "      <td>md</td>\n",
       "      <td>California</td>\n",
       "      <td>0</td>\n",
       "      <td>earthquake</td>\n",
       "    </tr>\n",
       "  </tbody>\n",
       "</table>\n",
       "</div>"
      ],
      "text/plain": [
       "    mag magType parsed_place  tsunami        type\n",
       "0  1.35      ml   California        0  earthquake\n",
       "1  1.29      ml   California        0  earthquake\n",
       "2  3.42      ml   California        0  earthquake\n",
       "3  0.44      ml   California        0  earthquake\n",
       "4  2.16      md   California        0  earthquake"
      ]
     },
     "execution_count": 163,
     "metadata": {},
     "output_type": "execute_result"
    }
   ],
   "source": [
    "# separate the columns to work with\n",
    "df_cols = ['mag', 'magType', 'parsed_place', 'tsunami', 'type']\n",
    "df = df[df_cols]\n",
    "df.head()"
   ]
  },
  {
   "cell_type": "markdown",
   "metadata": {},
   "source": [
    "> \n",
    "    1. Find the 95th percentile of earthquake magnitude in Japan using the mb magnitude type."
   ]
  },
  {
   "cell_type": "code",
   "execution_count": null,
   "metadata": {},
   "outputs": [
    {
     "data": {
      "text/html": [
       "<div>\n",
       "<style scoped>\n",
       "    .dataframe tbody tr th:only-of-type {\n",
       "        vertical-align: middle;\n",
       "    }\n",
       "\n",
       "    .dataframe tbody tr th {\n",
       "        vertical-align: top;\n",
       "    }\n",
       "\n",
       "    .dataframe thead th {\n",
       "        text-align: right;\n",
       "    }\n",
       "</style>\n",
       "<table border=\"1\" class=\"dataframe\">\n",
       "  <thead>\n",
       "    <tr style=\"text-align: right;\">\n",
       "      <th></th>\n",
       "      <th>mag</th>\n",
       "      <th>magType</th>\n",
       "      <th>place</th>\n",
       "      <th>parsed_place</th>\n",
       "      <th>tsunami</th>\n",
       "      <th>type</th>\n",
       "    </tr>\n",
       "  </thead>\n",
       "  <tbody>\n",
       "    <tr>\n",
       "      <th>count</th>\n",
       "      <td>9331.000000</td>\n",
       "      <td>9331</td>\n",
       "      <td>9332</td>\n",
       "      <td>9332</td>\n",
       "      <td>9332.000000</td>\n",
       "      <td>9332</td>\n",
       "    </tr>\n",
       "    <tr>\n",
       "      <th>unique</th>\n",
       "      <td>NaN</td>\n",
       "      <td>10</td>\n",
       "      <td>5433</td>\n",
       "      <td>110</td>\n",
       "      <td>NaN</td>\n",
       "      <td>5</td>\n",
       "    </tr>\n",
       "    <tr>\n",
       "      <th>top</th>\n",
       "      <td>NaN</td>\n",
       "      <td>ml</td>\n",
       "      <td>10km NE of Aguanga, CA</td>\n",
       "      <td>Alaska</td>\n",
       "      <td>NaN</td>\n",
       "      <td>earthquake</td>\n",
       "    </tr>\n",
       "    <tr>\n",
       "      <th>freq</th>\n",
       "      <td>NaN</td>\n",
       "      <td>6803</td>\n",
       "      <td>306</td>\n",
       "      <td>3665</td>\n",
       "      <td>NaN</td>\n",
       "      <td>9081</td>\n",
       "    </tr>\n",
       "    <tr>\n",
       "      <th>mean</th>\n",
       "      <td>1.497345</td>\n",
       "      <td>NaN</td>\n",
       "      <td>NaN</td>\n",
       "      <td>NaN</td>\n",
       "      <td>0.006537</td>\n",
       "      <td>NaN</td>\n",
       "    </tr>\n",
       "    <tr>\n",
       "      <th>std</th>\n",
       "      <td>1.203347</td>\n",
       "      <td>NaN</td>\n",
       "      <td>NaN</td>\n",
       "      <td>NaN</td>\n",
       "      <td>0.080589</td>\n",
       "      <td>NaN</td>\n",
       "    </tr>\n",
       "    <tr>\n",
       "      <th>min</th>\n",
       "      <td>-1.260000</td>\n",
       "      <td>NaN</td>\n",
       "      <td>NaN</td>\n",
       "      <td>NaN</td>\n",
       "      <td>0.000000</td>\n",
       "      <td>NaN</td>\n",
       "    </tr>\n",
       "    <tr>\n",
       "      <th>25%</th>\n",
       "      <td>0.720000</td>\n",
       "      <td>NaN</td>\n",
       "      <td>NaN</td>\n",
       "      <td>NaN</td>\n",
       "      <td>0.000000</td>\n",
       "      <td>NaN</td>\n",
       "    </tr>\n",
       "    <tr>\n",
       "      <th>50%</th>\n",
       "      <td>1.300000</td>\n",
       "      <td>NaN</td>\n",
       "      <td>NaN</td>\n",
       "      <td>NaN</td>\n",
       "      <td>0.000000</td>\n",
       "      <td>NaN</td>\n",
       "    </tr>\n",
       "    <tr>\n",
       "      <th>75%</th>\n",
       "      <td>1.900000</td>\n",
       "      <td>NaN</td>\n",
       "      <td>NaN</td>\n",
       "      <td>NaN</td>\n",
       "      <td>0.000000</td>\n",
       "      <td>NaN</td>\n",
       "    </tr>\n",
       "    <tr>\n",
       "      <th>max</th>\n",
       "      <td>7.500000</td>\n",
       "      <td>NaN</td>\n",
       "      <td>NaN</td>\n",
       "      <td>NaN</td>\n",
       "      <td>1.000000</td>\n",
       "      <td>NaN</td>\n",
       "    </tr>\n",
       "  </tbody>\n",
       "</table>\n",
       "</div>"
      ],
      "text/plain": [
       "                mag magType                   place parsed_place      tsunami  \\\n",
       "count   9331.000000    9331                    9332         9332  9332.000000   \n",
       "unique          NaN      10                    5433          110          NaN   \n",
       "top             NaN      ml  10km NE of Aguanga, CA       Alaska          NaN   \n",
       "freq            NaN    6803                     306         3665          NaN   \n",
       "mean       1.497345     NaN                     NaN          NaN     0.006537   \n",
       "std        1.203347     NaN                     NaN          NaN     0.080589   \n",
       "min       -1.260000     NaN                     NaN          NaN     0.000000   \n",
       "25%        0.720000     NaN                     NaN          NaN     0.000000   \n",
       "50%        1.300000     NaN                     NaN          NaN     0.000000   \n",
       "75%        1.900000     NaN                     NaN          NaN     0.000000   \n",
       "max        7.500000     NaN                     NaN          NaN     1.000000   \n",
       "\n",
       "              type  \n",
       "count         9332  \n",
       "unique           5  \n",
       "top     earthquake  \n",
       "freq          9081  \n",
       "mean           NaN  \n",
       "std            NaN  \n",
       "min            NaN  \n",
       "25%            NaN  \n",
       "50%            NaN  \n",
       "75%            NaN  \n",
       "max            NaN  "
      ]
     },
     "execution_count": 137,
     "metadata": {},
     "output_type": "execute_result"
    }
   ],
   "source": [
    "df.describe(include='all')"
   ]
  },
  {
   "cell_type": "code",
   "execution_count": null,
   "metadata": {},
   "outputs": [],
   "source": [
    "japan_earthquakes = df[(df['parsed_place'].str.contains(\"Japan\")) \n",
    "                       & (df['magType'] == 'mb')]"
   ]
  },
  {
   "cell_type": "code",
   "execution_count": null,
   "metadata": {},
   "outputs": [
    {
     "data": {
      "text/plain": [
       "4.9"
      ]
     },
     "execution_count": 139,
     "metadata": {},
     "output_type": "execute_result"
    }
   ],
   "source": [
    "percentile_95th = japan_earthquakes['mag'].quantile(0.95)\n",
    "percentile_95th"
   ]
  },
  {
   "cell_type": "markdown",
   "metadata": {},
   "source": [
    "> \n",
    "    2. Find the percentage of earthquakes in Indonesia that were coupled with tsunamis."
   ]
  },
  {
   "cell_type": "code",
   "execution_count": null,
   "metadata": {},
   "outputs": [],
   "source": [
    "indonesia_df = df[df['parsed_place'] == 'Indonesia']"
   ]
  },
  {
   "cell_type": "code",
   "execution_count": null,
   "metadata": {},
   "outputs": [
    {
     "data": {
      "text/plain": [
       "magType\n",
       "mb       127\n",
       "mww       18\n",
       "ms_20      1\n",
       "mwr        1\n",
       "Name: count, dtype: int64"
      ]
     },
     "execution_count": 141,
     "metadata": {},
     "output_type": "execute_result"
    }
   ],
   "source": [
    "indonesia_df.magType.value_counts()"
   ]
  },
  {
   "cell_type": "code",
   "execution_count": null,
   "metadata": {},
   "outputs": [
    {
     "data": {
      "text/plain": [
       "147"
      ]
     },
     "execution_count": 142,
     "metadata": {},
     "output_type": "execute_result"
    }
   ],
   "source": [
    "indonesia_df.shape[0]"
   ]
  },
  {
   "cell_type": "code",
   "execution_count": null,
   "metadata": {},
   "outputs": [
    {
     "data": {
      "text/plain": [
       "23.12925170068027"
      ]
     },
     "execution_count": 143,
     "metadata": {},
     "output_type": "execute_result"
    }
   ],
   "source": [
    "total_earthquakes = indonesia_df.shape[0]\n",
    "tsunami_earthquakes = indonesia_df[indonesia_df['tsunami'] == 1].shape[0]\n",
    "indonesia_earthquake = (tsunami_earthquakes / total_earthquakes) * 100 if total_earthquakes > 0 else 0\n",
    "indonesia_earthquake"
   ]
  },
  {
   "cell_type": "markdown",
   "metadata": {},
   "source": [
    "> \n",
    "    3. Calculate summary statistics for earthquakes in Nevada. "
   ]
  },
  {
   "cell_type": "code",
   "execution_count": null,
   "metadata": {},
   "outputs": [],
   "source": [
    "nevada_earthquakes = df[df['parsed_place'] == 'Nevada']"
   ]
  },
  {
   "cell_type": "code",
   "execution_count": null,
   "metadata": {},
   "outputs": [
    {
     "data": {
      "text/plain": [
       "type\n",
       "earthquake      647\n",
       "explosion        31\n",
       "quarry blast      3\n",
       "Name: count, dtype: int64"
      ]
     },
     "execution_count": 145,
     "metadata": {},
     "output_type": "execute_result"
    }
   ],
   "source": [
    "nevada_earthquakes.type.value_counts()"
   ]
  },
  {
   "cell_type": "code",
   "execution_count": null,
   "metadata": {},
   "outputs": [
    {
     "data": {
      "text/html": [
       "<div>\n",
       "<style scoped>\n",
       "    .dataframe tbody tr th:only-of-type {\n",
       "        vertical-align: middle;\n",
       "    }\n",
       "\n",
       "    .dataframe tbody tr th {\n",
       "        vertical-align: top;\n",
       "    }\n",
       "\n",
       "    .dataframe thead th {\n",
       "        text-align: right;\n",
       "    }\n",
       "</style>\n",
       "<table border=\"1\" class=\"dataframe\">\n",
       "  <thead>\n",
       "    <tr style=\"text-align: right;\">\n",
       "      <th></th>\n",
       "      <th>mag</th>\n",
       "      <th>tsunami</th>\n",
       "    </tr>\n",
       "  </thead>\n",
       "  <tbody>\n",
       "    <tr>\n",
       "      <th>count</th>\n",
       "      <td>681.000000</td>\n",
       "      <td>681.0</td>\n",
       "    </tr>\n",
       "    <tr>\n",
       "      <th>mean</th>\n",
       "      <td>0.500073</td>\n",
       "      <td>0.0</td>\n",
       "    </tr>\n",
       "    <tr>\n",
       "      <th>std</th>\n",
       "      <td>0.696710</td>\n",
       "      <td>0.0</td>\n",
       "    </tr>\n",
       "    <tr>\n",
       "      <th>min</th>\n",
       "      <td>-0.500000</td>\n",
       "      <td>0.0</td>\n",
       "    </tr>\n",
       "    <tr>\n",
       "      <th>25%</th>\n",
       "      <td>-0.100000</td>\n",
       "      <td>0.0</td>\n",
       "    </tr>\n",
       "    <tr>\n",
       "      <th>50%</th>\n",
       "      <td>0.400000</td>\n",
       "      <td>0.0</td>\n",
       "    </tr>\n",
       "    <tr>\n",
       "      <th>75%</th>\n",
       "      <td>0.900000</td>\n",
       "      <td>0.0</td>\n",
       "    </tr>\n",
       "    <tr>\n",
       "      <th>max</th>\n",
       "      <td>2.900000</td>\n",
       "      <td>0.0</td>\n",
       "    </tr>\n",
       "  </tbody>\n",
       "</table>\n",
       "</div>"
      ],
      "text/plain": [
       "              mag  tsunami\n",
       "count  681.000000    681.0\n",
       "mean     0.500073      0.0\n",
       "std      0.696710      0.0\n",
       "min     -0.500000      0.0\n",
       "25%     -0.100000      0.0\n",
       "50%      0.400000      0.0\n",
       "75%      0.900000      0.0\n",
       "max      2.900000      0.0"
      ]
     },
     "execution_count": 146,
     "metadata": {},
     "output_type": "execute_result"
    }
   ],
   "source": [
    "nevada_earthquakes.describe()"
   ]
  },
  {
   "cell_type": "code",
   "execution_count": null,
   "metadata": {},
   "outputs": [
    {
     "data": {
      "image/png": "[encoded data removed]",
      "text/plain": [
       "<Figure size 640x480 with 1 Axes>"
      ]
     },
     "metadata": {},
     "output_type": "display_data"
    }
   ],
   "source": [
    "plt.hist(nevada_earthquakes.mag)\n",
    "plt.title('Earthquake Magnitude in Nevada')\n",
    "plt.show()"
   ]
  },
  {
   "cell_type": "code",
   "execution_count": null,
   "metadata": {},
   "outputs": [
    {
     "data": {
      "image/png": "[encoded data removed]",
      "text/plain": [
       "<Figure size 640x480 with 1 Axes>"
      ]
     },
     "metadata": {},
     "output_type": "display_data"
    }
   ],
   "source": [
    "plt.boxplot(nevada_earthquakes.mag)\n",
    "plt.show()"
   ]
  },
  {
   "cell_type": "markdown",
   "metadata": {},
   "source": [
    ">\n",
    "    4. Add a column indicating whether the earthquake happened in a country or US state that is on the Ring of Fire. \n",
    "    Use Alaska, Antarctica (look for Antarctic), Bolivia,\n",
    "    California, Canada, Chile, Costa Rica, Ecuador, Fiji, Guatemala, Indonesia, Japan, Kermadec Islands, Mexico (be careful not to select New Mexico), New Zealand,\n",
    "    Peru, Philippines, Russia, Taiwan, Tonga, and Washington."
   ]
  },
  {
   "cell_type": "code",
   "execution_count": null,
   "metadata": {},
   "outputs": [
    {
     "data": {
      "text/plain": [
       "parsed_place\n",
       "False    5667\n",
       "True     3665\n",
       "Name: count, dtype: int64"
      ]
     },
     "execution_count": 149,
     "metadata": {},
     "output_type": "execute_result"
    }
   ],
   "source": [
    "df.parsed_place.str.contains('Alaska' or 'Antarctic').value_counts()"
   ]
  },
  {
   "cell_type": "code",
   "execution_count": null,
   "metadata": {},
   "outputs": [],
   "source": [
    "ring_of_fire_places = ['Alaska', 'Antarctic', 'Bolivia',\n",
    "    'California', 'Canada', 'Chile', 'Costa Rica', 'Ecuador', 'Fiji', \n",
    "    'Guatemala', 'Indonesia', 'Japan', 'Kermadec Islands', 'Mexico', \n",
    "    'New Zealand', 'Peru', 'Philippines', 'Russia', 'Taiwan', 'Tonga', \n",
    "    'Washington']"
   ]
  },
  {
   "cell_type": "code",
   "execution_count": null,
   "metadata": {},
   "outputs": [],
   "source": [
    "def is_in_rof(place):\n",
    "    for location in ring_of_fire_places:\n",
    "        if location in place:\n",
    "            return True\n",
    "    return False\n",
    "\n",
    "df['in_ring_of_fire'] = df['parsed_place'].apply(is_in_rof)"
   ]
  },
  {
   "cell_type": "code",
   "execution_count": null,
   "metadata": {},
   "outputs": [
    {
     "data": {
      "text/html": [
       "<div>\n",
       "<style scoped>\n",
       "    .dataframe tbody tr th:only-of-type {\n",
       "        vertical-align: middle;\n",
       "    }\n",
       "\n",
       "    .dataframe tbody tr th {\n",
       "        vertical-align: top;\n",
       "    }\n",
       "\n",
       "    .dataframe thead th {\n",
       "        text-align: right;\n",
       "    }\n",
       "</style>\n",
       "<table border=\"1\" class=\"dataframe\">\n",
       "  <thead>\n",
       "    <tr style=\"text-align: right;\">\n",
       "      <th></th>\n",
       "      <th>mag</th>\n",
       "      <th>magType</th>\n",
       "      <th>place</th>\n",
       "      <th>parsed_place</th>\n",
       "      <th>tsunami</th>\n",
       "      <th>type</th>\n",
       "      <th>in_ring_of_fire</th>\n",
       "    </tr>\n",
       "  </thead>\n",
       "  <tbody>\n",
       "    <tr>\n",
       "      <th>0</th>\n",
       "      <td>1.35</td>\n",
       "      <td>ml</td>\n",
       "      <td>9km NE of Aguanga, CA</td>\n",
       "      <td>California</td>\n",
       "      <td>0</td>\n",
       "      <td>earthquake</td>\n",
       "      <td>True</td>\n",
       "    </tr>\n",
       "    <tr>\n",
       "      <th>1</th>\n",
       "      <td>1.29</td>\n",
       "      <td>ml</td>\n",
       "      <td>9km NE of Aguanga, CA</td>\n",
       "      <td>California</td>\n",
       "      <td>0</td>\n",
       "      <td>earthquake</td>\n",
       "      <td>True</td>\n",
       "    </tr>\n",
       "    <tr>\n",
       "      <th>2</th>\n",
       "      <td>3.42</td>\n",
       "      <td>ml</td>\n",
       "      <td>8km NE of Aguanga, CA</td>\n",
       "      <td>California</td>\n",
       "      <td>0</td>\n",
       "      <td>earthquake</td>\n",
       "      <td>True</td>\n",
       "    </tr>\n",
       "    <tr>\n",
       "      <th>3</th>\n",
       "      <td>0.44</td>\n",
       "      <td>ml</td>\n",
       "      <td>9km NE of Aguanga, CA</td>\n",
       "      <td>California</td>\n",
       "      <td>0</td>\n",
       "      <td>earthquake</td>\n",
       "      <td>True</td>\n",
       "    </tr>\n",
       "    <tr>\n",
       "      <th>4</th>\n",
       "      <td>2.16</td>\n",
       "      <td>md</td>\n",
       "      <td>10km NW of Avenal, CA</td>\n",
       "      <td>California</td>\n",
       "      <td>0</td>\n",
       "      <td>earthquake</td>\n",
       "      <td>True</td>\n",
       "    </tr>\n",
       "  </tbody>\n",
       "</table>\n",
       "</div>"
      ],
      "text/plain": [
       "    mag magType                  place parsed_place  tsunami        type  \\\n",
       "0  1.35      ml  9km NE of Aguanga, CA   California        0  earthquake   \n",
       "1  1.29      ml  9km NE of Aguanga, CA   California        0  earthquake   \n",
       "2  3.42      ml  8km NE of Aguanga, CA   California        0  earthquake   \n",
       "3  0.44      ml  9km NE of Aguanga, CA   California        0  earthquake   \n",
       "4  2.16      md  10km NW of Avenal, CA   California        0  earthquake   \n",
       "\n",
       "   in_ring_of_fire  \n",
       "0             True  \n",
       "1             True  \n",
       "2             True  \n",
       "3             True  \n",
       "4             True  "
      ]
     },
     "execution_count": 152,
     "metadata": {},
     "output_type": "execute_result"
    }
   ],
   "source": [
    "df.head()"
   ]
  },
  {
   "cell_type": "markdown",
   "metadata": {},
   "source": [
    ">\n",
    "    5. Calculate the number of earthquakes in the Ring of Fire locations and the number outside of them."
   ]
  },
  {
   "cell_type": "code",
   "execution_count": null,
   "metadata": {},
   "outputs": [
    {
     "data": {
      "text/plain": [
       "in_ring_of_fire\n",
       "True     0.77036\n",
       "False    0.22964\n",
       "Name: proportion, dtype: float64"
      ]
     },
     "execution_count": 153,
     "metadata": {},
     "output_type": "execute_result"
    }
   ],
   "source": [
    "df.in_ring_of_fire.value_counts(normalize=True)"
   ]
  },
  {
   "cell_type": "code",
   "execution_count": null,
   "metadata": {},
   "outputs": [
    {
     "data": {
      "text/plain": [
       "in_ring_of_fire\n",
       "True     7189\n",
       "False    2143\n",
       "Name: count, dtype: int64"
      ]
     },
     "execution_count": 154,
     "metadata": {},
     "output_type": "execute_result"
    }
   ],
   "source": [
    "df.in_ring_of_fire.value_counts()"
   ]
  },
  {
   "cell_type": "markdown",
   "metadata": {},
   "source": [
    "Earthquakes distribution\n",
    "- 7189 (77%) ocorred in Ring of Fire\n",
    "- 2143 (23%) occured outside the Ring of Fire"
   ]
  },
  {
   "cell_type": "markdown",
   "metadata": {},
   "source": [
    ">\n",
    "    Find the tsunami count along the Ring of Fire"
   ]
  },
  {
   "cell_type": "code",
   "execution_count": null,
   "metadata": {},
   "outputs": [],
   "source": [
    "tsunami_in_rof = df[(df['in_ring_of_fire']) \n",
    "                       & (df['tsunami'] == 1)]"
   ]
  },
  {
   "cell_type": "code",
   "execution_count": null,
   "metadata": {},
   "outputs": [
    {
     "data": {
      "text/plain": [
       "45"
      ]
     },
     "execution_count": 156,
     "metadata": {},
     "output_type": "execute_result"
    }
   ],
   "source": [
    "tsunami_in_rof.shape[0]"
   ]
  },
  {
   "cell_type": "markdown",
   "metadata": {},
   "source": [
    "45 tsunamis along the Ring of Fire"
   ]
  }
 ],
 "metadata": {
  "kernelspec": {
   "display_name": "book_env",
   "language": "python",
   "name": "python3"
  },
  "language_info": {
   "codemirror_mode": {
    "name": "ipython",
    "version": 3
   },
   "file_extension": ".py",
   "mimetype": "text/x-python",
   "name": "python",
   "nbconvert_exporter": "python",
   "pygments_lexer": "ipython3",
   "version": "3.12.0"
  }
 },
 "nbformat": 4,
 "nbformat_minor": 2
}
